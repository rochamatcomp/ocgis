{
 "cells": [
  {
   "cell_type": "code",
   "execution_count": 1,
   "metadata": {},
   "outputs": [],
   "source": [
    "import sys\n",
    "import os\n",
    "sys.path.append(os.path.expanduser('~/l/ocgis/src'))\n",
    "sys.path.append(os.path.expanduser('~/l/esmf/src/addon/ESMPy/src'))\n",
    "import ocgis\n",
    "assert(ocgis.__release__ == '2.1.0.dev1')"
   ]
  },
  {
   "cell_type": "markdown",
   "metadata": {},
   "source": [
    "Configure some environment variables to point to the head directory containing climate data files used in the demo as well as the output directory."
   ]
  },
  {
   "cell_type": "code",
   "execution_count": 2,
   "metadata": {},
   "outputs": [
    {
     "name": "stdout",
     "output_type": "stream",
     "text": [
      "/tmp/tmpMTyAmd\n"
     ]
    }
   ],
   "source": [
    "import tempfile\n",
    "ocgis.env.DIR_DATA = os.path.expanduser('~/l/data/ocgis_test_data/CanCM4')\n",
    "ocgis.env.DIR_OUTPUT = tempfile.mkdtemp()\n",
    "print ocgis.env.DIR_OUTPUT"
   ]
  },
  {
   "cell_type": "markdown",
   "metadata": {},
   "source": [
    "Inspect a target file's metadata."
   ]
  },
  {
   "cell_type": "code",
   "execution_count": 3,
   "metadata": {},
   "outputs": [
    {
     "name": "stdout",
     "output_type": "stream",
     "text": [
      "OCGIS Driver Key: netcdf-cf {\n",
      "dimensions:\n",
      "    time = ISUNLIMITED ; // 3650 currently\n",
      "    lat = 64 ;\n",
      "    lon = 128 ;\n",
      "    bnds = 2 ;\n",
      "variables:\n",
      "    float64 time(time) ;\n",
      "      time:bounds = \"time_bnds\" ;\n",
      "      time:units = \"days since 1850-1-1\" ;\n",
      "      time:calendar = \"365_day\" ;\n",
      "      time:axis = \"T\" ;\n",
      "      time:long_name = \"time\" ;\n",
      "      time:standard_name = \"time\" ;\n",
      "    float64 time_bnds(time, bnds) ;\n",
      "    float64 lat(lat) ;\n",
      "      lat:bounds = \"lat_bnds\" ;\n",
      "      lat:units = \"degrees_north\" ;\n",
      "      lat:axis = \"Y\" ;\n",
      "      lat:long_name = \"latitude\" ;\n",
      "      lat:standard_name = \"latitude\" ;\n",
      "    float64 lat_bnds(lat, bnds) ;\n",
      "    float64 lon(lon) ;\n",
      "      lon:bounds = \"lon_bnds\" ;\n",
      "      lon:units = \"degrees_east\" ;\n",
      "      lon:axis = \"X\" ;\n",
      "      lon:long_name = \"longitude\" ;\n",
      "      lon:standard_name = \"longitude\" ;\n",
      "    float64 lon_bnds(lon, bnds) ;\n",
      "    float64 height() ;\n",
      "      height:units = \"m\" ;\n",
      "      height:axis = \"Z\" ;\n",
      "      height:positive = \"up\" ;\n",
      "      height:long_name = \"height\" ;\n",
      "      height:standard_name = \"height\" ;\n",
      "    float32 tas(time, lat, lon) ;\n",
      "      tas:standard_name = \"air_temperature\" ;\n",
      "      tas:long_name = \"Near-Surface Air Temperature\" ;\n",
      "      tas:units = \"K\" ;\n",
      "      tas:original_name = \"ST\" ;\n",
      "      tas:cell_methods = \"time: mean (interval: 15 minutes)\" ;\n",
      "      tas:cell_measures = \"area: areacella\" ;\n",
      "      tas:history = \"2011-05-08T01:01:51Z altered by CMOR: Treated scalar dimension: 'height'. 2011-05-08T01:01:51Z altered by CMOR: replaced missing value flag (1e+38) with standard missing value (1e+20).\" ;\n",
      "      tas:coordinates = \"height\" ;\n",
      "      tas:missing_value = 1.00000002004e+20 ;\n",
      "      tas:_FillValue = 1.00000002004e+20 ;\n",
      "      tas:associated_files = \"baseURL: http://cmip-pcmdi.llnl.gov/CMIP5/dataLocation gridspecFile: gridspec_atmos_fx_CanCM4_decadal2000_r0i0p0.nc areacella: areacella_fx_CanCM4_decadal2000_r0i0p0.nc\" ;\n",
      "\n",
      "// global attributes:\n",
      "    :institution = \"CCCma (Canadian Centre for Climate Modelling and Analysis, Victoria, BC, Canada)\" ;\n",
      "    :institute_id = \"CCCma\" ;\n",
      "    :experiment_id = \"decadal2000\" ;\n",
      "    :source = \"CanCM4 2010 atmosphere: CanAM4 (AGCM15i, T63L35) ocean: CanOM4 (OGCM4.0, 256x192L40) sea ice: CanSIM1 (Cavitating Fluid, T63 Gaussian Grid) land: CLASS2.7\" ;\n",
      "    :model_id = \"CanCM4\" ;\n",
      "    :forcing = \"GHG,Oz,SA,BC,OC,LU,Sl,Vl (GHG includes CO2,CH4,N2O,CFC11,effective CFC12)\" ;\n",
      "    :parent_experiment_id = \"N/A\" ;\n",
      "    :parent_experiment_rip = \"N/A\" ;\n",
      "    :branch_time = 0.0 ;\n",
      "    :contact = \"cccma_info@ec.gc.ca\" ;\n",
      "    :references = \"http://www.cccma.ec.gc.ca/models\" ;\n",
      "    :initialization_method = 1 ;\n",
      "    :physics_version = 1 ;\n",
      "    :tracking_id = \"fac7bd83-dd7a-425b-b4dc-b5ab2e915939\" ;\n",
      "    :branch_time_YMDH = \"2001:01:01:00\" ;\n",
      "    :CCCma_runid = \"DHFP1B_E002_I2001_M01\" ;\n",
      "    :CCCma_parent_runid = \"DHFP1_E002\" ;\n",
      "    :CCCma_data_licence = \"1) GRANT OF LICENCE - The Government of Canada (Environment Canada) is the \n",
      "owner of all intellectual property rights (including copyright) that may exist in this Data \n",
      "product. You (as \"The Licensee\") are hereby granted a non-exclusive, non-assignable, \n",
      "non-transferable unrestricted licence to use this data product for any purpose including \n",
      "the right to share these data with others and to make value-added and derivative \n",
      "products from it. This licence is not a sale of any or all of the owner's rights.\n",
      "2) NO WARRANTY - This Data product is provided \"as-is\"; it has not been designed or \n",
      "prepared to meet the Licensee's particular requirements. Environment Canada makes no \n",
      "warranty, either express or implied, including but not limited to, warranties of \n",
      "merchantability and fitness for a particular purpose. In no event will Environment Canada \n",
      "be liable for any indirect, special, consequential or other damages attributed to the \n",
      "Licensee's use of the Data product.\" ;\n",
      "    :product = \"output\" ;\n",
      "    :experiment = \"10- or 30-year run initialized in year 2000\" ;\n",
      "    :frequency = \"day\" ;\n",
      "    :creation_date = \"2011-05-08T01:01:51Z\" ;\n",
      "    :history = \"2011-05-08T01:01:51Z CMOR rewrote data to comply with CF standards and CMIP5 requirements.\" ;\n",
      "    :Conventions = \"CF-1.4\" ;\n",
      "    :project_id = \"CMIP5\" ;\n",
      "    :table_id = \"Table day (28 March 2011) f9d6cfec5981bb8be1801b35a81002f0\" ;\n",
      "    :title = \"CanCM4 model output prepared for CMIP5 10- or 30-year run initialized in year 2000\" ;\n",
      "    :parent_experiment = \"N/A\" ;\n",
      "    :modeling_realm = \"atmos\" ;\n",
      "    :realization = 2 ;\n",
      "    :cmor_version = \"2.5.4\" ;\n",
      "}\n"
     ]
    }
   ],
   "source": [
    "uri = 'tas_day_CanCM4_decadal2000_r2i1p1_20010101-20101231.nc'\n",
    "variable = 'tas'\n",
    "rd = ocgis.RequestDataset(uri=uri, variable=variable)\n",
    "rd.inspect()"
   ]
  },
  {
   "cell_type": "markdown",
   "metadata": {},
   "source": [
    "The dimension map defines how metadata is interpreted. This can be customized to deal with non-conforming data or special use cases."
   ]
  },
  {
   "cell_type": "code",
   "execution_count": 4,
   "metadata": {},
   "outputs": [
    {
     "name": "stdout",
     "output_type": "stream",
     "text": [
      "\n",
      "{'crs': {'variable': 'latitude_longitude'},\n",
      " 'driver': 'netcdf-cf',\n",
      " 'level': {'attrs': {},\n",
      "           'bounds': None,\n",
      "           'dimension': [],\n",
      "           'variable': u'height'},\n",
      " 'realization': {'dimension': [], 'variable': None},\n",
      " 'time': {'attrs': {'axis': 'T'},\n",
      "          'bounds': u'time_bnds',\n",
      "          'dimension': [u'time'],\n",
      "          'variable': u'time'},\n",
      " 'x': {'attrs': {},\n",
      "       'bounds': u'lon_bnds',\n",
      "       'dimension': [u'lon'],\n",
      "       'variable': u'lon'},\n",
      " 'y': {'attrs': {},\n",
      "       'bounds': u'lat_bnds',\n",
      "       'dimension': [u'lat'],\n",
      "       'variable': u'lat'}}\n"
     ]
    }
   ],
   "source": [
    "rd.dimension_map.pprint()"
   ]
  },
  {
   "cell_type": "markdown",
   "metadata": {},
   "source": [
    "Subset a target file by the boundary of California using an intersects GIS operation (the default), and write the data to an ESRI Shapefile. Select the first time coordinate only."
   ]
  },
  {
   "cell_type": "code",
   "execution_count": 5,
   "metadata": {},
   "outputs": [
    {
     "name": "stdout",
     "output_type": "stream",
     "text": [
      "/tmp/tmpMTyAmd/ca/ca.shp\n"
     ]
    }
   ],
   "source": [
    "geom = os.path.expanduser('~/l/shp/state_boundaries/state_boundaries.shp')\n",
    "ops = ocgis.OcgOperations(dataset=rd, geom=geom, geom_select_uid=[25], output_format='shp', prefix='ca', \n",
    "                          snippet=True)\n",
    "ca_shp = ops.execute()\n",
    "print(ca_shp)"
   ]
  },
  {
   "cell_type": "markdown",
   "metadata": {},
   "source": [
    " Also write the model grid to shapefile."
   ]
  },
  {
   "cell_type": "code",
   "execution_count": 8,
   "metadata": {},
   "outputs": [
    {
     "name": "stdout",
     "output_type": "stream",
     "text": [
      "/tmp/tmpMTyAmd/grid/grid.shp\n"
     ]
    }
   ],
   "source": [
    "ops = ocgis.OcgOperations(dataset=rd, output_format='shp', snippet=True, prefix='grid', spatial_wrapping='wrap')\n",
    "ca_grid = ops.execute()\n",
    "print(ca_grid)"
   ]
  },
  {
   "cell_type": "markdown",
   "metadata": {},
   "source": [
    "Spatially average the grid cells clipped to the boundary of California for all the June, July, and August months in the target dataset. Write the output data to CSV."
   ]
  },
  {
   "cell_type": "code",
   "execution_count": 9,
   "metadata": {},
   "outputs": [
    {
     "name": "stdout",
     "output_type": "stream",
     "text": [
      "/tmp/tmpMTyAmd/ca_spatial_average/ca_spatial_average.csv\n"
     ]
    },
    {
     "data": {
      "text/plain": [
       "True"
      ]
     },
     "execution_count": 9,
     "metadata": {},
     "output_type": "execute_result"
    }
   ],
   "source": [
    "import webbrowser\n",
    "rd = ocgis.RequestDataset(uri=uri, variable=variable, time_region={'month': [6, 7, 8]})\n",
    "ops = ocgis.OcgOperations(dataset=rd, geom=geom, geom_select_uid=[25], spatial_operation='clip',\n",
    "                          output_format='csv', prefix='ca_spatial_average', aggregate=True)\n",
    "ret = ops.execute()\n",
    "print(ret)\n",
    "webbrowser.open(ret)"
   ]
  },
  {
   "cell_type": "markdown",
   "metadata": {},
   "source": [
    "Perform a difference calulation between two variables using a string function. Inspect the metadata of the output NetCDF file."
   ]
  },
  {
   "cell_type": "code",
   "execution_count": 11,
   "metadata": {},
   "outputs": [
    {
     "name": "stderr",
     "output_type": "stream",
     "text": [
      "/home/benkoziol/l/ocgis/src/ocgis/util/logging_ocgis.py:76: OcgWarning: \"vector_wrap\" set to False for netCDF output\n",
      "  warn(exc)\n"
     ]
    },
    {
     "name": "stdout",
     "output_type": "stream",
     "text": [
      "OCGIS Driver Key: netcdf-cf {\n",
      "dimensions:\n",
      "    time = ISUNLIMITED ; // 3650 currently\n",
      "    bnds = 2 ;\n",
      "    lat = 4 ;\n",
      "    lon = 4 ;\n",
      "variables:\n",
      "    float64 time(time) ;\n",
      "      time:bounds = \"time_bnds\" ;\n",
      "      time:units = \"days since 1850-1-1\" ;\n",
      "      time:calendar = \"365_day\" ;\n",
      "      time:axis = \"T\" ;\n",
      "      time:long_name = \"time\" ;\n",
      "      time:standard_name = \"time\" ;\n",
      "    float64 time_bnds(time, bnds) ;\n",
      "      time_bnds:units = \"days since 1850-1-1\" ;\n",
      "      time_bnds:calendar = \"365_day\" ;\n",
      "    float64 lat(lat) ;\n",
      "      lat:bounds = \"lat_bnds\" ;\n",
      "      lat:units = \"degrees_north\" ;\n",
      "      lat:axis = \"Y\" ;\n",
      "      lat:long_name = \"latitude\" ;\n",
      "      lat:standard_name = \"latitude\" ;\n",
      "    float64 lat_bnds(lat, bnds) ;\n",
      "    float64 lon(lon) ;\n",
      "      lon:bounds = \"lon_bnds\" ;\n",
      "      lon:units = \"degrees_east\" ;\n",
      "      lon:axis = \"X\" ;\n",
      "      lon:long_name = \"longitude\" ;\n",
      "      lon:standard_name = \"longitude\" ;\n",
      "    float64 lon_bnds(lon, bnds) ;\n",
      "    float64 height() ;\n",
      "      height:units = \"m\" ;\n",
      "      height:axis = \"Z\" ;\n",
      "      height:positive = \"up\" ;\n",
      "      height:long_name = \"height\" ;\n",
      "      height:standard_name = \"height\" ;\n",
      "    int8 ocgis_spatial_mask(lat, lon) ;\n",
      "      ocgis_spatial_mask:_FillValue = 63 ;\n",
      "      ocgis_spatial_mask:description = \"values matching fill value are spatially masked\" ;\n",
      "      ocgis_spatial_mask:ocgis_role = \"spatial_mask\" ;\n",
      "    |S1 latitude_longitude() ;\n",
      "      latitude_longitude:grid_mapping_name = \"latitude_longitude\" ;\n",
      "    float32 diff(time, lat, lon) ;\n",
      "      diff:standard_name = \"\" ;\n",
      "      diff:long_name = \"\" ;\n",
      "      diff:grid_mapping = \"latitude_longitude\" ;\n",
      "\n",
      "// global attributes:\n",
      "    :institution = \"CCCma (Canadian Centre for Climate Modelling and Analysis, Victoria, BC, Canada)\" ;\n",
      "    :institute_id = \"CCCma\" ;\n",
      "    :experiment_id = \"decadal2000\" ;\n",
      "    :source = \"CanCM4 2010 atmosphere: CanAM4 (AGCM15i, T63L35) ocean: CanOM4 (OGCM4.0, 256x192L40) sea ice: CanSIM1 (Cavitating Fluid, T63 Gaussian Grid) land: CLASS2.7\" ;\n",
      "    :model_id = \"CanCM4\" ;\n",
      "    :forcing = \"GHG,Oz,SA,BC,OC,LU,Sl,Vl (GHG includes CO2,CH4,N2O,CFC11,effective CFC12)\" ;\n",
      "    :parent_experiment_id = \"N/A\" ;\n",
      "    :parent_experiment_rip = \"N/A\" ;\n",
      "    :branch_time = 0.0 ;\n",
      "    :contact = \"cccma_info@ec.gc.ca\" ;\n",
      "    :references = \"http://www.cccma.ec.gc.ca/models\" ;\n",
      "    :initialization_method = 1 ;\n",
      "    :physics_version = 1 ;\n",
      "    :tracking_id = \"d3de08f5-af1d-4975-a337-a23985a9f026\" ;\n",
      "    :branch_time_YMDH = \"2001:01:01:00\" ;\n",
      "    :CCCma_runid = \"DHFP1B_E002_I2001_M01\" ;\n",
      "    :CCCma_parent_runid = \"DHFP1_E002\" ;\n",
      "    :CCCma_data_licence = \"1) GRANT OF LICENCE - The Government of Canada (Environment Canada) is the \n",
      "owner of all intellectual property rights (including copyright) that may exist in this Data \n",
      "product. You (as \"The Licensee\") are hereby granted a non-exclusive, non-assignable, \n",
      "non-transferable unrestricted licence to use this data product for any purpose including \n",
      "the right to share these data with others and to make value-added and derivative \n",
      "products from it. This licence is not a sale of any or all of the owner's rights.\n",
      "2) NO WARRANTY - This Data product is provided \"as-is\"; it has not been designed or \n",
      "prepared to meet the Licensee's particular requirements. Environment Canada makes no \n",
      "warranty, either express or implied, including but not limited to, warranties of \n",
      "merchantability and fitness for a particular purpose. In no event will Environment Canada \n",
      "be liable for any indirect, special, consequential or other damages attributed to the \n",
      "Licensee's use of the Data product.\" ;\n",
      "    :product = \"output\" ;\n",
      "    :experiment = \"10- or 30-year run initialized in year 2000\" ;\n",
      "    :frequency = \"day\" ;\n",
      "    :creation_date = \"2011-05-08T01:02:02Z\" ;\n",
      "    :history = \"2011-05-08T01:02:02Z CMOR rewrote data to comply with CF standards and CMIP5 requirements.\n",
      "2018-02-08 21:38:42.661058 UTC ocgis-2.1.0.dev1: OcgOperations(calc_sample_size=False, optimizations=None, geom_select_sql_where=None, output_format=\"nc\", spatial_wrapping=\"None\", format_time=True, select_nearest=False, output_crs=None, time_range=None, calc_grouping=None, prefix=\"diff\", abstraction=\"auto\", regrid_destination=None, output_format_options=None, allow_empty=False, vector_wrap=False, aggregate=False, interpolate_spatial_bounds=False, dataset=<generator object __iter__ at 0x7f145f27dbe0>, geom_uid=None, dir_output=\"/tmp/tmpMTyAmd\", backend=\"ocg\", search_radius_mult=None, add_auxiliary_files=True, slice=None, regrid_options={'regrid_method': 'auto', 'value_mask': None, 'split': True}, callback=None, calc_raw=False, level_range=None, geom_select_uid=(25,), snippet=False, time_region=None, melted=False, geom=\"state_boundaries\", time_subset_func=None, conform_units_to=None, spatial_operation=\"intersects\", calc=[{'meta_attrs': None, 'name': None, 'func': 'diff=tasmax-tasmin', 'kwds': OrderedDict()}], optimized_bbox_subset=False, file_only=False, spatial_reorder=False, )\" ;\n",
      "    :Conventions = \"CF-1.4\" ;\n",
      "    :project_id = \"CMIP5\" ;\n",
      "    :table_id = \"Table day (28 March 2011) f9d6cfec5981bb8be1801b35a81002f0\" ;\n",
      "    :title = \"CanCM4 model output prepared for CMIP5 10- or 30-year run initialized in year 2000\" ;\n",
      "    :parent_experiment = \"N/A\" ;\n",
      "    :modeling_realm = \"atmos\" ;\n",
      "    :realization = 2 ;\n",
      "    :cmor_version = \"2.5.4\" ;\n",
      "}\n"
     ]
    }
   ],
   "source": [
    "rd1 = ocgis.RequestDataset(uri='tasmax_day_CanCM4_decadal2000_r2i1p1_20010101-20101231.nc',\n",
    "                           variable='tasmax')\n",
    "rd2 = ocgis.RequestDataset(uri='tasmin_day_CanCM4_decadal2000_r2i1p1_20010101-20101231.nc',\n",
    "                           variable='tasmin')\n",
    "calc = 'diff=tasmax-tasmin'\n",
    "ops = ocgis.OcgOperations(dataset=[rd1, rd2], calc=calc, output_format='nc', geom='state_boundaries',\n",
    "                          select_ugid=[25], prefix='diff')\n",
    "ret = ops.execute()\n",
    "ocgis.RequestDataset(ret).inspect()"
   ]
  },
  {
   "cell_type": "markdown",
   "metadata": {},
   "source": [
    "Calculate a sequence of statistics to produce a July time series conforming the target units from Kelvin to Celsius. Perform the calculations on the spatially averaged data for California."
   ]
  },
  {
   "cell_type": "code",
   "execution_count": 13,
   "metadata": {},
   "outputs": [
    {
     "name": "stdout",
     "output_type": "stream",
     "text": [
      "/tmp/tmpMTyAmd/ca_calcs/ca_calcs.csv\n"
     ]
    },
    {
     "data": {
      "text/plain": [
       "True"
      ]
     },
     "execution_count": 13,
     "metadata": {},
     "output_type": "execute_result"
    }
   ],
   "source": [
    "import webbrowser\n",
    "rd = ocgis.RequestDataset(uri=uri, variable=variable, time_region={'month': [7]}, conform_units_to='celsius', \n",
    "                          field_name='calcs')\n",
    "calc = [{'func': 'mean', 'name': 'mean'},\n",
    "        {'func': 'std', 'name': 'stdev'},\n",
    "        {'func': 'min', 'name': 'min'},\n",
    "        {'func': 'max', 'name': 'max'},\n",
    "        {'func': 'median', 'name': 'median'},\n",
    "        {'func': 'freq_perc', 'name': 'fp_95', 'kwds': {'percentile': 95.0}},\n",
    "        {'func': 'freq_perc', 'name': 'fp_5', 'kwds':{'percentile': 5.0}},]\n",
    "calc_grouping = ['month','year']\n",
    "ops = ocgis.OcgOperations(dataset=rd, geom='state_boundaries', geom_select_uid=[25, 26], spatial_operation='clip',\n",
    "                          output_format= 'csv', prefix='ca_calcs', aggregate=True, calc=calc,\n",
    "                          calc_grouping=calc_grouping)\n",
    "ret = ops.execute()\n",
    "print(ret)\n",
    "webbrowser.open(ret)"
   ]
  },
  {
   "cell_type": "markdown",
   "metadata": {},
   "source": [
    "Perform the same operation returning the data as a \"collection\". Print the derived variable aliases."
   ]
  },
  {
   "cell_type": "code",
   "execution_count": 19,
   "metadata": {},
   "outputs": [
    {
     "name": "stdout",
     "output_type": "stream",
     "text": [
      "<SpatialCollection(Containers :: [25, 26])>\n",
      "[u'lat', u'lat_bnds', u'lon', u'lon_bnds', u'height', 'ocgis_polygon', 'ocgis_spatial_mask', 'GID', 'latitude_longitude', u'time', 'climatology_bounds', 'mean', 'stdev', 'min', 'max', 'median', 'fp_95', 'fp_5']\n"
     ]
    }
   ],
   "source": [
    "ops.output_format = 'ocgis'\n",
    "ret = ops.execute()\n",
    "print(ret)\n",
    "print(ret[25].groups[rd.field_name].keys())"
   ]
  },
  {
   "cell_type": "markdown",
   "metadata": {},
   "source": [
    "Fields are sliceable by dimensions (variables have dimensions similar to NetCDF)."
   ]
  },
  {
   "cell_type": "code",
   "execution_count": 33,
   "metadata": {},
   "outputs": [
    {
     "name": "stdout",
     "output_type": "stream",
     "text": [
      "mean dimensions = (Dimension(name='time', size=10, size_current=10, dist=False, is_empty=False), Dimension(name='ocgis_geom_union', size=1, size_current=1, dist=False, is_empty=False))\n",
      "\n",
      "mean shape = (10, 1)\n",
      "\n",
      "field shapes = OrderedDict([(u'lat', (4,)), (u'lat_bnds', (4, 2)), (u'lon', (4,)), (u'lon_bnds', (4, 2)), (u'height', ()), ('ocgis_polygon', (1,)), ('ocgis_spatial_mask', (4, 4)), ('GID', (1,)), (u'time', (10,)), ('climatology_bounds', (10, 2)), ('mean', (10, 1)), ('stdev', (10, 1)), ('min', (10, 1)), ('max', (10, 1)), ('median', (10, 1)), ('fp_95', (10, 1)), ('fp_5', (10, 1))])\n",
      "\n",
      "sliced field shapes = OrderedDict([(u'lat', (4,)), (u'lat_bnds', (4, 2)), (u'lon', (4,)), (u'lon_bnds', (4, 2)), (u'height', ()), ('ocgis_polygon', (1,)), ('ocgis_spatial_mask', (4, 4)), ('GID', (1,)), (u'time', (1,)), ('climatology_bounds', (1, 2)), ('mean', (1, 1)), ('stdev', (1, 1)), ('min', (1, 1)), ('max', (1, 1)), ('median', (1, 1)), ('fp_95', (1, 1)), ('fp_5', (1, 1))])\n"
     ]
    }
   ],
   "source": [
    "mean = ret.get_element(variable_name='mean')\n",
    "print('mean dimensions = {}\\n'.format(mean.dimensions))\n",
    "print('mean shape = {}\\n'.format(mean.shape))\n",
    "print('field shapes = {}\\n'.format(mean.parent.shapes))\n",
    "sub = mean.parent[{'time': slice(0, 1)}]\n",
    "print('sliced field shapes = {}'.format(sub.shapes))"
   ]
  },
  {
   "cell_type": "markdown",
   "metadata": {},
   "source": [
    "Print some time values from the time variable."
   ]
  },
  {
   "cell_type": "code",
   "execution_count": 37,
   "metadata": {},
   "outputs": [
    {
     "name": "stdout",
     "output_type": "stream",
     "text": [
      "[55311.0 55676.0 56041.0 56406.0 56771.0 57136.0 57501.0 57866.0 58231.0\n",
      " 58596.0]\n",
      "[netcdftime._netcdftime.DatetimeProlepticGregorian(2001, 7, 16, 0, 0, 0, 0, -1, 1)\n",
      " netcdftime._netcdftime.DatetimeProlepticGregorian(2002, 7, 16, 0, 0, 0, 0, -1, 1)\n",
      " netcdftime._netcdftime.DatetimeProlepticGregorian(2003, 7, 16, 0, 0, 0, 0, -1, 1)\n",
      " netcdftime._netcdftime.DatetimeProlepticGregorian(2004, 7, 16, 0, 0, 0, 0, -1, 1)\n",
      " netcdftime._netcdftime.DatetimeProlepticGregorian(2005, 7, 16, 0, 0, 0, 0, -1, 1)\n",
      " netcdftime._netcdftime.DatetimeProlepticGregorian(2006, 7, 16, 0, 0, 0, 0, -1, 1)\n",
      " netcdftime._netcdftime.DatetimeProlepticGregorian(2007, 7, 16, 0, 0, 0, 0, -1, 1)\n",
      " netcdftime._netcdftime.DatetimeProlepticGregorian(2008, 7, 16, 0, 0, 0, 0, -1, 1)\n",
      " netcdftime._netcdftime.DatetimeProlepticGregorian(2009, 7, 16, 0, 0, 0, 0, -1, 1)\n",
      " netcdftime._netcdftime.DatetimeProlepticGregorian(2010, 7, 16, 0, 0, 0, 0, -1, 1)]\n"
     ]
    }
   ],
   "source": [
    "field = mean.parent\n",
    "time = field.time\n",
    "print(time.value_numtime)\n",
    "print(time.value_datetime)"
   ]
  },
  {
   "cell_type": "markdown",
   "metadata": {},
   "source": [
    "Print example variable values."
   ]
  },
  {
   "cell_type": "code",
   "execution_count": 39,
   "metadata": {},
   "outputs": [
    {
     "data": {
      "text/plain": [
       "masked_array(data=[27.117446899414062, 25.43231201171875,\n",
       "                   25.081804275512695, 24.113428115844727,\n",
       "                   26.335866928100586, 24.551790237426758,\n",
       "                   26.142292022705078, 24.463281631469727,\n",
       "                   26.58957862854004, 26.490549087524414],\n",
       "             mask=[False, False, False, False, False, False, False, False,\n",
       "                   False, False],\n",
       "       fill_value=1e+20,\n",
       "            dtype=float32)"
      ]
     },
     "execution_count": 39,
     "metadata": {},
     "output_type": "execute_result"
    }
   ],
   "source": [
    "mean.get_masked_value().squeeze()"
   ]
  },
  {
   "cell_type": "markdown",
   "metadata": {},
   "source": [
    "Geometries are stored as Shapely objects with associated attributes."
   ]
  },
  {
   "cell_type": "code",
   "execution_count": 44,
   "metadata": {},
   "outputs": [
    {
     "name": "stdout",
     "output_type": "stream",
     "text": [
      "<class 'shapely.geometry.multipolygon.MultiPolygon'>\n",
      "(-124.39263831223747, 32.36153180141197, -114.12523030267519, 41.81088782731149)\n",
      "California\n"
     ]
    }
   ],
   "source": [
    "print(type(ret.geoms[25]))\n",
    "print(ret.geoms[25]).bounds\n",
    "print(ret[25]['STATE_NAME'].get_value())[0]"
   ]
  },
  {
   "cell_type": "markdown",
   "metadata": {},
   "source": [
    "For three variables, calculate monthly averages for the year 2005 for each U.S. state boundary."
   ]
  },
  {
   "cell_type": "code",
   "execution_count": 48,
   "metadata": {},
   "outputs": [
    {
     "name": "stdout",
     "output_type": "stream",
     "text": [
      "/tmp/tmpMTyAmd/temps/temps.shp\n"
     ]
    }
   ],
   "source": [
    "rd1 = ocgis.RequestDataset(uri='tas_day_CanCM4_decadal2000_r2i1p1_20010101-20101231.nc')\n",
    "rd2 = ocgis.RequestDataset(uri='tasmin_day_CanCM4_decadal2000_r2i1p1_20010101-20101231.nc')\n",
    "rd3 = ocgis.RequestDataset(uri='tasmax_day_CanCM4_decadal2000_r2i1p1_20010101-20101231.nc')\n",
    "calc = [{'func': 'mean', 'name': 'mean'}]\n",
    "calc_grouping = ['month']\n",
    "ops = ocgis.OcgOperations(dataset=[rd1, rd2, rd3], geom='state_boundaries', aggregate=True,\n",
    "                          output_format='shp', spatial_operation='clip', prefix='temps',\n",
    "                          calc=calc, calc_grouping=calc_grouping, time_region={'year': [2005]},\n",
    "                          conform_units_to='fahrenheit')\n",
    "ret = ops.execute()\n",
    "print(ret)"
   ]
  },
  {
   "cell_type": "markdown",
   "metadata": {},
   "source": [
    "Use ESMF regridding with a subset and spatial aggregation, writing the data to shapefile."
   ]
  },
  {
   "cell_type": "code",
   "execution_count": null,
   "metadata": {},
   "outputs": [],
   "source": [
    "rd_src = ocgis.RequestDataset(uri='tas_day_CanCM4_decadal2010_r2i1p1_20110101-20201231.nc',\n",
    "                              variable='tas')\n",
    "rd_dest = ocgis.RequestDataset(uri='nldas_met_update.obs.daily.pr.1991.nc')\n",
    "regrid_options = {'with_corners': False}\n",
    "ops = ocgis.OcgOperations(dataset=rd_src, regrid_destination=rd_dest, geom_select_uid=[6, 16], \n",
    "                          agg_selection=True, geom='state_boundaries', snippet=True,\n",
    "                          output_format='shp', prefix='regrid', regrid_options=regrid_options)\n",
    "print ops.execute()"
   ]
  }
 ],
 "metadata": {
  "kernelspec": {
   "display_name": "Python 2",
   "language": "python",
   "name": "python2"
  },
  "language_info": {
   "codemirror_mode": {
    "name": "ipython",
    "version": 2
   },
   "file_extension": ".py",
   "mimetype": "text/x-python",
   "name": "python",
   "nbconvert_exporter": "python",
   "pygments_lexer": "ipython2",
   "version": "2.7.14"
  }
 },
 "nbformat": 4,
 "nbformat_minor": 1
}
